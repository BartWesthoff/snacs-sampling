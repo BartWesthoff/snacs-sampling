{
 "cells": [
  {
   "cell_type": "code",
   "execution_count": 162,
   "metadata": {},
   "outputs": [],
   "source": [
    "import os\n",
    "import json"
   ]
  },
  {
   "cell_type": "code",
   "execution_count": null,
   "metadata": {},
   "outputs": [],
   "source": [
    "all_data = []\n",
    "for f in os.listdir():\n",
    "    if f.endswith('.json') and 'temporal' in f and 'mean' not in f:\n",
    "        with open(f, 'r') as file:\n",
    "            data = json.load(file)\n",
    "            for k, v in data.items():\n",
    "                data[k]['T6'] = data[k]['T3']['authorities']\n",
    "                data[k]['T3'] = data[k]['T3']['hubs']\n",
    "        all_data.append(data)\n",
    "all_data"
   ]
  },
  {
   "cell_type": "code",
   "execution_count": null,
   "metadata": {},
   "outputs": [],
   "source": [
    "new_dict = {}\n",
    "for data in all_data:\n",
    "    for key, value in data.items():\n",
    "        key_split = key.split('_')\n",
    "        algo_name = key_split[1]\n",
    "        if algo_name in new_dict:\n",
    "            new_dict[algo_name].append(value)\n",
    "        else:\n",
    "            new_dict[algo_name] = [value]\n",
    "new_dict    "
   ]
  },
  {
   "cell_type": "code",
   "execution_count": null,
   "metadata": {},
   "outputs": [],
   "source": [
    "mean_dict = {}\n",
    "for key, value in new_dict.items():\n",
    "    mean_dict[key] = {}\n",
    "    for i in range(len(value)):\n",
    "        for k, v in value[i].items():\n",
    "            if k in mean_dict[key]:\n",
    "                mean_dict[key][k].append(v)\n",
    "            else:\n",
    "                mean_dict[key][k] = [v]\n",
    "    for k, v in mean_dict[key].items():\n",
    "        mean_dict[key][k] = sum(v) / len(v)\n",
    "mean_dict"
   ]
  },
  {
   "cell_type": "code",
   "execution_count": 166,
   "metadata": {},
   "outputs": [],
   "source": [
    "with open('temporal_mean.json', 'w') as file:\n",
    "    json.dump(mean_dict, file, indent=4)"
   ]
  },
  {
   "cell_type": "markdown",
   "metadata": {},
   "source": [
    "static"
   ]
  },
  {
   "cell_type": "code",
   "execution_count": null,
   "metadata": {},
   "outputs": [],
   "source": [
    "all_data = []\n",
    "for f in os.listdir():\n",
    "    if f.endswith('.json') and 'temporal' not in f and 'mean' not in f:\n",
    "        with open(f, 'r') as file:\n",
    "            data = json.load(file)\n",
    "        all_data.append(data)\n",
    "all_data"
   ]
  },
  {
   "cell_type": "code",
   "execution_count": null,
   "metadata": {},
   "outputs": [],
   "source": [
    "new_dict = {}\n",
    "for data in all_data:\n",
    "    for key, value in data.items():\n",
    "        key_split = key.split('_')\n",
    "        algo_name = key_split[1]\n",
    "        if algo_name in new_dict:\n",
    "            new_dict[algo_name].append(value)\n",
    "        else:\n",
    "            new_dict[algo_name] = [value]\n",
    "new_dict    "
   ]
  },
  {
   "cell_type": "code",
   "execution_count": null,
   "metadata": {},
   "outputs": [],
   "source": [
    "mean_dict2 = {}\n",
    "for key, value in new_dict.items():\n",
    "    mean_dict2[key] = {}\n",
    "    for i in range(len(value)):\n",
    "        for k, v in value[i].items():\n",
    "            if k in mean_dict2[key]:\n",
    "                mean_dict2[key][k].append(v)\n",
    "            else:\n",
    "                mean_dict2[key][k] = [v]\n",
    "    for k, v in mean_dict2[key].items():\n",
    "        mean_dict2[key][k] = sum(v) / len(v)\n",
    "mean_dict2"
   ]
  },
  {
   "cell_type": "code",
   "execution_count": null,
   "metadata": {},
   "outputs": [],
   "source": [
    "for k, v in mean_dict.items():\n",
    "    mean_dict2[k].update(v)\n",
    "for k, v in mean_dict2.items():\n",
    "    # remove S5\n",
    "    v.pop('S5', None)\n",
    "    mean_dict2[k]['value_mean'] = sum(v.values()) / len(v)\n",
    "for k, v in mean_dict2.items():\n",
    "    for key, value in v.items():\n",
    "        mean_dict2[k][key] = round(value, 4)\n",
    "mean_dict2"
   ]
  },
  {
   "cell_type": "code",
   "execution_count": 174,
   "metadata": {},
   "outputs": [],
   "source": [
    "with open('all mean.json', 'w') as file:\n",
    "    data = json.dump(mean_dict2, file, indent=4)"
   ]
  },
  {
   "cell_type": "code",
   "execution_count": null,
   "metadata": {},
   "outputs": [],
   "source": [
    "for k, v in mean_dict2.items():\n",
    "    table_str = f'{k} &' + ' & '.join([str(x) for x in v.values()]) + '\\\\\\\\'\n",
    "    print(table_str)"
   ]
  }
 ],
 "metadata": {
  "kernelspec": {
   "display_name": "Python 3",
   "language": "python",
   "name": "python3"
  },
  "language_info": {
   "codemirror_mode": {
    "name": "ipython",
    "version": 3
   },
   "file_extension": ".py",
   "mimetype": "text/x-python",
   "name": "python",
   "nbconvert_exporter": "python",
   "pygments_lexer": "ipython3",
   "version": "3.10.13"
  }
 },
 "nbformat": 4,
 "nbformat_minor": 2
}
