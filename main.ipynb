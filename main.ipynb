{
 "cells": [
  {
   "cell_type": "code",
   "execution_count": 1,
   "metadata": {},
   "outputs": [],
   "source": [
    "import random\n",
    "import numpy as np\n",
    "from classes.helper import Helper\n",
    "import random\n",
    "import os\n",
    "from algorithms.pies import pies_sampling\n",
    "from algorithms.ties import ties_sampling\n",
    "from algorithms.DLAS import dlas_algorithm\n",
    "from algorithms.DUE import due_sampling_directed\n",
    "from algorithms.FF import forest_fire_model\n",
    "from algorithms.icla_ns import icla_ns_directed\n",
    "from algorithms.EDLAS import edlas_sampling\n",
    "from classes.dataset_manager import DatasetManager\n",
    "from classes.benchmark import BenchmarkStatic\n",
    "import json\n",
    "random.seed(42)\n",
    "np.random.seed(42)"
   ]
  },
  {
   "cell_type": "code",
   "execution_count": null,
   "metadata": {},
   "outputs": [],
   "source": [
    "filename = 'soc-redditHyperlinks-title.csv'\n",
    "manager = DatasetManager(folder_path='data',file_extension=filename)\n",
    "datasets = manager.load_edgelists(source_col='SOURCE', target_col='TARGET', timestamp_col='TIMESTAMP')\n",
    "datasets"
   ]
  },
  {
   "cell_type": "code",
   "execution_count": null,
   "metadata": {},
   "outputs": [],
   "source": [
    "G = manager.graphs[filename]\n",
    "helper = Helper()\n",
    "fractions = [0.1,0.2,0.3]\n",
    "St = [\n",
    "    [\n",
    "        pies_sampling(G=G, phi=fraction),\n",
    "        ties_sampling(G=G, phi=fraction),\n",
    "        dlas_algorithm(graph=G, sample_ratio=fraction, num_iterations=10000),\n",
    "        due_sampling_directed(graph=G, sampling_ratio=fraction)[-1],\n",
    "        forest_fire_model(graph=G, min_percent=fraction, p_f=0.2, p_b=0.1)[-1],\n",
    "        icla_ns_directed(graph=G,f=fraction, tau=0.05),\n",
    "        edlas_sampling(graph=G, sampling_ratio=fraction)\n",
    "    ][:]\n",
    "    for fraction in fractions[:]\n",
    "]"
   ]
  },
  {
   "cell_type": "code",
   "execution_count": null,
   "metadata": {},
   "outputs": [],
   "source": [
    "benchmark = BenchmarkStatic(G)\n",
    "path = f'results/base_statistics {filename.split(\".\")[0]}.json'\n",
    "if not os.path.exists(path):\n",
    "    results  = benchmark.base_statistics()\n",
    "    print(results)\n",
    "    with open(f'results/base_statistics {filename.split(\".\")[0]}.json', 'w') as f:\n",
    "        json.dump(results, f)"
   ]
  },
  {
   "cell_type": "code",
   "execution_count": null,
   "metadata": {},
   "outputs": [],
   "source": [
    "order_of_sampling = [\"PIES\", \"TIES\", \"DLAS\", \"DUE\", \"FF\", \"ICLA\", \"EDLAS\"]\n",
    "bench_list = {}\n",
    "benchmark.precompute()"
   ]
  },
  {
   "cell_type": "code",
   "execution_count": null,
   "metadata": {},
   "outputs": [],
   "source": [
    "for fraction,  st_t in zip(fractions, St):\n",
    "    for sampling_technique, graph_sampled in zip(order_of_sampling, st_t):\n",
    "        benchmark.Gs = graph_sampled\n",
    "        bench_dict = {}\n",
    "        print(f\"-- New Benchmark method: {sampling_technique} fraction: {fraction} --\")\n",
    "        s1 = benchmark.S1()\n",
    "        s2 = benchmark.S2()\n",
    "        s3 = benchmark.S3()\n",
    "        s4 = benchmark.S4()\n",
    "        s5 = benchmark.S5()\n",
    "        s6 = benchmark.S6()\n",
    "        s7,s8 = benchmark.S7_S8()\n",
    "        s9 = benchmark.S9()\n",
    "        bench_dict = {\"S1\": s1, \"S2\": s2, \"S3\": s3, \"S4\": s4, \"S5\": s5, \"S6\": s6, \"S7\": s7, \"S8\": s8, \"S9\": s9}\n",
    "        bench_list[f\"{round(fraction,5)}_{sampling_technique}\"] = bench_dict\n",
    "        # print(f\"S1: {s1}\\nS2: {s2}\\nS3: {s3}\\nS4: {s4}\\nS5: {s5}\\nS6: {s6}\\nS7: {s7}\\nS8: {s8}\\nS9: {s9}\")\n",
    "with open(f'results static {filename.split(\".\")[0]}.json', \"w\") as f:\n",
    "    json.dump(bench_list, f,indent=4)"
   ]
  },
  {
   "cell_type": "code",
   "execution_count": 7,
   "metadata": {},
   "outputs": [],
   "source": [
    "with open(f'results static {filename.split(\".\")[0]} seed 42.json', \"w\") as f:\n",
    "    json.dump(bench_list, f,indent=4)"
   ]
  }
 ],
 "metadata": {
  "kernelspec": {
   "display_name": "Python 3",
   "language": "python",
   "name": "python3"
  },
  "language_info": {
   "codemirror_mode": {
    "name": "ipython",
    "version": 3
   },
   "file_extension": ".py",
   "mimetype": "text/x-python",
   "name": "python",
   "nbconvert_exporter": "python",
   "pygments_lexer": "ipython3",
   "version": "3.10.13"
  }
 },
 "nbformat": 4,
 "nbformat_minor": 2
}
