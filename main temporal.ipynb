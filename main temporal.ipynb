{
 "cells": [
  {
   "cell_type": "code",
   "execution_count": 1,
   "metadata": {},
   "outputs": [],
   "source": [
    "import random\n",
    "import numpy as np\n",
    "from classes.helper import Helper\n",
    "import random\n",
    "import os\n",
    "from algorithms.pies import pies_sampling\n",
    "from algorithms.ties import ties_sampling\n",
    "from algorithms.DLAS import dlas_algorithm\n",
    "from algorithms.DUE import due_sampling_directed\n",
    "from algorithms.FF import forest_fire_model\n",
    "from algorithms.icla_ns import icla_ns_directed\n",
    "from algorithms.EDLAS import edlas_sampling\n",
    "from classes.dataset_manager import DatasetManager\n",
    "from classes.benchmark_temporal import BenchmarkTemporal\n",
    "import json\n",
    "random.seed(42)\n",
    "np.random.seed(42)\n",
    "# url https://www.researchgate.net/publication/254639513_Network_Sampling_via_Edge-based_Node_Selection_with_Graph_Induction"
   ]
  },
  {
   "cell_type": "code",
   "execution_count": null,
   "metadata": {},
   "outputs": [],
   "source": [
    "filename = 'soc-redditHyperlinks-title.csv'\n",
    "manager = DatasetManager(folder_path='data',file_extension=filename)\n",
    "manager.load_edgelists(source_col='SOURCE', target_col='TARGET', timestamp_col='TIMESTAMP')\n",
    "manager.graphs[filename]"
   ]
  },
  {
   "cell_type": "code",
   "execution_count": null,
   "metadata": {},
   "outputs": [],
   "source": [
    "G = manager.graphs[filename]\n",
    "helper = Helper()\n",
    "fractions = [0.1,0.2,0.3]\n",
    "St = [\n",
    "    [\n",
    "        pies_sampling(G=G, phi=fraction),\n",
    "        ties_sampling(G=G, phi=fraction),\n",
    "        dlas_algorithm(graph=G, sample_ratio=fraction, num_iterations=10000),\n",
    "        due_sampling_directed(graph=G, sampling_ratio=fraction)[-1],\n",
    "        forest_fire_model(graph=G, min_percent=fraction, p_f=0.2, p_b=0.1)[-1],\n",
    "        icla_ns_directed(graph=G,f=fraction, tau=0.05),\n",
    "        edlas_sampling(graph=G, sampling_ratio=fraction)\n",
    "    ][:]\n",
    "    for fraction in fractions[:]\n",
    "]"
   ]
  },
  {
   "cell_type": "code",
   "execution_count": null,
   "metadata": {},
   "outputs": [],
   "source": [
    "# gather the first 20% of the nodes in the graph\n",
    "G = manager.graphs[filename] \n",
    "G_smaller = [G.subgraph(list(G.nodes())[:int(G.number_of_nodes()*fraction)]) for fraction in fractions]\n",
    "G_smaller"
   ]
  },
  {
   "cell_type": "code",
   "execution_count": 5,
   "metadata": {},
   "outputs": [],
   "source": [
    "benchmark = BenchmarkTemporal(G_smaller)\n",
    "# path = f'results/base_statistics {filename.split(\".\")[0]}.json'\n",
    "# if not os.path.exists(path):\n",
    "#     results  = benchmark.base_statistics()\n",
    "#     print(results)\n",
    "#     with open(path, 'w') as f:\n",
    "#         json.dump(results, f)"
   ]
  },
  {
   "cell_type": "code",
   "execution_count": 6,
   "metadata": {},
   "outputs": [],
   "source": [
    "order_of_sampling = [\"PIES\", \"TIES\", \"DLAS\", \"DUE\", \"FF\", \"ICLA\", \"EDLAS\"]\n",
    "bench_list = {}\n",
    "benchmark.precompute()"
   ]
  },
  {
   "cell_type": "code",
   "execution_count": null,
   "metadata": {},
   "outputs": [],
   "source": [
    "# make St such that each array is a list of the same sampling method\n",
    "St = [[St[j][i] for j in range(len(St))] for i in range(len(St[0]))]\n",
    "St"
   ]
  },
  {
   "cell_type": "code",
   "execution_count": null,
   "metadata": {},
   "outputs": [],
   "source": [
    "for sampling_technique, st_t in zip(order_of_sampling, St):\n",
    "    for fraction in fractions:\n",
    "        # print(sampling_technique,fraction,st_t)\n",
    "        benchmark.St = st_t\n",
    "        bench_dict = {}\n",
    "        print(f\"-- New Benchmark method: {sampling_technique} fraction: {fraction} --\")\n",
    "        t1 = benchmark.T1()\n",
    "        t2 = benchmark.T2()\n",
    "        statistic_hubs,statistic_authorities = benchmark.T3()\n",
    "        t4 = benchmark.T4()\n",
    "        t5 = benchmark.T5()\n",
    "        bench_dict = {\"T1\": t1, \"T2\": t2, \"T3\": {\"hubs\": statistic_hubs, \"authorities\": statistic_authorities}, \"T4\": t4, \"T5\": t5}\n",
    "        bench_list[f\"{round(fraction,5)}_{sampling_technique}\"] = bench_dict\n",
    "        # print(f\"S1: {s1}\\nS2: {s2}\\nS3: {s3}\\nS4: {s4}\\nS5: {s5}\\nS6: {s6}\\nS7: {s7}\\nS8: {s8}\\nS9: {s9}\")\n",
    "with open(f'results static {filename.split(\".\")[0]} temporal.json', \"w\") as f:\n",
    "    json.dump(bench_list, f,indent=4)"
   ]
  }
 ],
 "metadata": {
  "kernelspec": {
   "display_name": "Python 3",
   "language": "python",
   "name": "python3"
  },
  "language_info": {
   "codemirror_mode": {
    "name": "ipython",
    "version": 3
   },
   "file_extension": ".py",
   "mimetype": "text/x-python",
   "name": "python",
   "nbconvert_exporter": "python",
   "pygments_lexer": "ipython3",
   "version": "3.10.13"
  }
 },
 "nbformat": 4,
 "nbformat_minor": 2
}
